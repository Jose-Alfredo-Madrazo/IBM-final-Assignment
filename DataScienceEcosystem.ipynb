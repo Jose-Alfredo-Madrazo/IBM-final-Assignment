{
 "cells": [
  {
   "cell_type": "markdown",
   "id": "f559053b-2bff-4743-9a73-47d4e0918fcf",
   "metadata": {},
   "source": [
    "# Data Science Tools and Ecosystem"
   ]
  },
  {
   "cell_type": "markdown",
   "id": "0d75fa78-330c-426d-aa2e-703d8a973ab5",
   "metadata": {},
   "source": [
    "In this notebook, Data Science Tools and Ecosystem are summarized."
   ]
  },
  {
   "cell_type": "markdown",
   "id": "cdbe3ea9-247c-4c9f-9538-a6c80e9685c8",
   "metadata": {},
   "source": [
    "**Objectives:**\r\n",
    "\r\n",
    "- List popular languages for Data Science\r\n",
    "- Identify key libraries used in Data Science\r\n",
    "- Describe the Data Science workflow\r\n",
    "- Summarize tools and ecosystems in Data Science\r\n",
    "- Understand basic data manipulation techniques\r\n"
   ]
  },
  {
   "cell_type": "markdown",
   "id": "70fe29cd-1fb1-4957-a598-2f17895b3234",
   "metadata": {},
   "source": [
    "Some of the popular languages that Data Scientists use are:\r\n",
    "\r\n",
    "1. Python\r\n",
    "2. R\r\n",
    "3. SQL\r\n",
    "4. Java\r\n",
    "5. Julia\r\n"
   ]
  },
  {
   "cell_type": "markdown",
   "id": "936ce64e-1217-4d30-8558-90843a6a481c",
   "metadata": {},
   "source": [
    "Some of the commonly used libraries used by Data Scientists include:\r\n",
    "\r\n",
    "1. NumPy\r\n",
    "2. Pandas\r\n",
    "3. Matplotlib\r\n",
    "4. Scikit-learn\r\n",
    "5. TensorFlow\r\n"
   ]
  },
  {
   "cell_type": "markdown",
   "id": "e47ac600-70cb-4fed-93c8-abaf0d0fe9cd",
   "metadata": {},
   "source": [
    "| Data Science Tools       |\r\n",
    "|--------------------------|\r\n",
    "| Jupyter Notebook         |\r\n",
    "| RStudio                  |\r\n",
    "| Apache Zeppelin          |\r\n"
   ]
  },
  {
   "cell_type": "markdown",
   "id": "77919bff-2959-4550-b46e-934006cb8d1d",
   "metadata": {},
   "source": [
    "### Arithmetic Expression Examples\r\n",
    "\r\n",
    "Below are a few examples of evaluating arithmetic expressions in Python.\r\n"
   ]
  },
  {
   "cell_type": "code",
   "execution_count": 3,
   "id": "b973ad79-493f-461e-a936-4956359367f1",
   "metadata": {},
   "outputs": [
    {
     "data": {
      "text/plain": [
       "17"
      ]
     },
     "execution_count": 3,
     "metadata": {},
     "output_type": "execute_result"
    }
   ],
   "source": [
    "# This is a simple arithmetic expression to multiply then add integers.\n",
    "result = (3 * 4) + 5\n",
    "result\n"
   ]
  },
  {
   "cell_type": "code",
   "execution_count": 4,
   "id": "ff005ac4-2eb7-46e0-9261-4fdf6cb94ff5",
   "metadata": {},
   "outputs": [
    {
     "name": "stdout",
     "output_type": "stream",
     "text": [
      "3.3333333333333335\n"
     ]
    }
   ],
   "source": [
    "# This will convert 200 minutes to hours by dividing by 60.\n",
    "minutes = 200\n",
    "hours = minutes / 60\n",
    "print(hours)\n"
   ]
  },
  {
   "cell_type": "markdown",
   "id": "d4549769-efda-47d1-924e-dc3935ed83a8",
   "metadata": {},
   "source": [
    "## Author\r\n",
    "Jose-Alfredo Madrazo\n",
    "e\r\n"
   ]
  },
  {
   "cell_type": "code",
   "execution_count": null,
   "id": "5d9f7c51-a52d-4ff9-b010-60c2b7084505",
   "metadata": {},
   "outputs": [],
   "source": []
  }
 ],
 "metadata": {
  "kernelspec": {
   "display_name": "Python 3 (ipykernel)",
   "language": "python",
   "name": "python3"
  },
  "language_info": {
   "codemirror_mode": {
    "name": "ipython",
    "version": 3
   },
   "file_extension": ".py",
   "mimetype": "text/x-python",
   "name": "python",
   "nbconvert_exporter": "python",
   "pygments_lexer": "ipython3",
   "version": "3.11.7"
  }
 },
 "nbformat": 4,
 "nbformat_minor": 5
}
